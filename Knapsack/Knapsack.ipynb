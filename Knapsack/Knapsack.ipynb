{
 "cells": [
  {
   "cell_type": "code",
   "execution_count": 1,
   "metadata": {},
   "outputs": [],
   "source": [
    "import bisect\n",
    "import matplotlib.pyplot as plt\n",
    "from itertools import accumulate\n",
    "from random import randint, random, choices"
   ]
  },
  {
   "cell_type": "code",
   "execution_count": 2,
   "metadata": {},
   "outputs": [],
   "source": [
    "def init_population(n): # Initialize Population for 1st Generation\n",
    "    individu = []\n",
    "    for i in range(n):\n",
    "        individu.append([randint(0,1), randint(0,1), randint(0,1), randint(0,1), randint(0,1), randint(0,1), randint(0,1)])\n",
    "    return individu\n",
    "\n",
    "def evaluation(): # Calculate Fitness Function of Individu\n",
    "    F_Obj = []\n",
    "    W_Obj = []\n",
    "    for i in range(n):\n",
    "        F_Obj.append(sum(x * y for x, y in zip(individu[i], benefit)))\n",
    "        W_Obj.append(sum(x * y for x, y in zip(individu[i], weight)))\n",
    "    F_Obj = [a if b <= 22 else 0 for a, b in zip(F_Obj, W_Obj)]\n",
    "    return F_Obj\n",
    "\n",
    "def selection(): # Selection of Parents for Crossover using Roulette Wheel Method\n",
    "    Prob = [x / sum(F_Obj) for x in F_Obj]\n",
    "    Cumulative_Prob = list(accumulate(Prob))\n",
    "    R = [random() for _ in range(20)]\n",
    "    old_individu = individu.copy()\n",
    "    for i in range(n):\n",
    "        new_index = bisect.bisect_left(Cumulative_Prob, R[i])\n",
    "        individu[i] = old_individu[new_index]\n",
    "    return individu\n",
    "\n",
    "def crossover(crossover_rate): # Produce Offsprings with One-Point Crossover (Point of Crossover = 3)\n",
    "    offspring_total = crossover_rate * n\n",
    "    parent = choices(individu, k = int(offspring_total))\n",
    "    offspring = []\n",
    "    for i in range(0, int(offspring_total), 2):\n",
    "        offspring.append(parent[i][:3] + parent[i+1][3:])\n",
    "        offspring.append(parent[i+1][:3] + parent[i][3:])\n",
    "    return offspring\n",
    "\n",
    "def mutation(mutation_rate): # Genetic Mutation for Offspring (Randomly Decided)\n",
    "    mutation_total = int(mutation_rate * n * len(offspring[0]))\n",
    "    old_offspring = offspring.copy()\n",
    "    for i in range(0,mutation_total):\n",
    "        a = randint(0, len(offspring)-1) \n",
    "        b = randint(0, len(offspring[0])-1)\n",
    "        offspring[a][b] = int(not(old_offspring[a][b]))\n",
    "    return offspring\n",
    "\n",
    "def elitism(a,b): # Determine the Individu for Next Generation Population\n",
    "    for i in range(len(b)):\n",
    "        a[i] = b[i]\n",
    "    return individu\n"
   ]
  },
  {
   "cell_type": "code",
   "execution_count": 5,
   "metadata": {},
   "outputs": [
    {
     "name": "stdout",
     "output_type": "stream",
     "text": [
      "Enter Number of Population and Generation : 20 15\n"
     ]
    }
   ],
   "source": [
    "n,x=map(int,input('Enter Number of Population and Generation : ').split())\n",
    "\n",
    "benefit = [5, 8, 3, 2, 7, 9, 4]\n",
    "weight = [7, 8, 4, 10, 4, 6, 4]\n",
    "plot_generation = []\n",
    "plot_f_obj = []"
   ]
  },
  {
   "cell_type": "code",
   "execution_count": 6,
   "metadata": {},
   "outputs": [
    {
     "name": "stdout",
     "output_type": "stream",
     "text": [
      "Result of Generation 1 :\n",
      "Best Individu + Objective Function : [0, 1, 1, 0, 1, 1, 0] 27\n",
      "-----------------------------------------------------------------\n",
      "Result of Generation 2 :\n",
      "Best Individu + Objective Function : [0, 1, 1, 0, 1, 1, 0] 27\n",
      "-----------------------------------------------------------------\n",
      "Result of Generation 3 :\n",
      "Best Individu + Objective Function : [0, 1, 1, 0, 1, 1, 0] 27\n",
      "-----------------------------------------------------------------\n",
      "Result of Generation 4 :\n",
      "Best Individu + Objective Function : [0, 1, 1, 0, 1, 1, 0] 27\n",
      "-----------------------------------------------------------------\n",
      "Result of Generation 5 :\n",
      "Best Individu + Objective Function : [0, 1, 1, 0, 1, 1, 0] 27\n",
      "-----------------------------------------------------------------\n",
      "Result of Generation 6 :\n",
      "Best Individu + Objective Function : [0, 1, 1, 0, 1, 1, 0] 27\n",
      "-----------------------------------------------------------------\n",
      "Result of Generation 7 :\n",
      "Best Individu + Objective Function : [0, 1, 1, 0, 1, 1, 0] 27\n",
      "-----------------------------------------------------------------\n",
      "Result of Generation 8 :\n",
      "Best Individu + Objective Function : [0, 1, 0, 0, 1, 1, 1] 28\n",
      "-----------------------------------------------------------------\n",
      "Result of Generation 9 :\n",
      "Best Individu + Objective Function : [0, 1, 0, 0, 1, 1, 1] 28\n",
      "-----------------------------------------------------------------\n",
      "Result of Generation 10 :\n",
      "Best Individu + Objective Function : [0, 1, 0, 0, 1, 1, 1] 28\n",
      "-----------------------------------------------------------------\n",
      "Result of Generation 11 :\n",
      "Best Individu + Objective Function : [0, 1, 0, 0, 1, 1, 1] 28\n",
      "-----------------------------------------------------------------\n",
      "Result of Generation 12 :\n",
      "Best Individu + Objective Function : [0, 1, 0, 0, 1, 1, 1] 28\n",
      "-----------------------------------------------------------------\n",
      "Result of Generation 13 :\n",
      "Best Individu + Objective Function : [0, 1, 0, 0, 1, 1, 1] 28\n",
      "-----------------------------------------------------------------\n",
      "Result of Generation 14 :\n",
      "Best Individu + Objective Function : [0, 1, 0, 0, 1, 1, 1] 28\n",
      "-----------------------------------------------------------------\n",
      "Result of Generation 15 :\n",
      "Best Individu + Objective Function : [0, 1, 0, 0, 1, 1, 1] 28\n",
      "-----------------------------------------------------------------\n"
     ]
    },
    {
     "data": {
      "image/png": "[encoded data removed]",
      "text/plain": [
       "<Figure size 432x288 with 1 Axes>"
      ]
     },
     "metadata": {
      "needs_background": "light"
     },
     "output_type": "display_data"
    }
   ],
   "source": [
    "if __name__ == '__main__':\n",
    "    individu = init_population(n)\n",
    "    for i in range(x):\n",
    "        F_Obj = evaluation()\n",
    "        individu = selection()\n",
    "        F_Obj = evaluation()\n",
    "        individu = [x for (y,x) in sorted(zip(F_Obj,individu), key=lambda pair: pair[0])]\n",
    "        offspring = crossover(0.8)\n",
    "        offspring = mutation(0.05)\n",
    "        individu = elitism(individu,offspring)\n",
    "        F_Obj = evaluation()\n",
    "        best_individu = [x for (y,x) in sorted(zip(F_Obj,individu), key=lambda pair: pair[0], reverse= True)]\n",
    "        print('Result of Generation', i+1 , ':')\n",
    "        print('Best Individu + Objective Function :', best_individu[0], sorted(F_Obj, reverse=True)[0])\n",
    "        print('-----------------------------------------------------------------')\n",
    "        plot_generation.append(i+1)\n",
    "        plot_f_obj.append(sorted(F_Obj, reverse=True)[0])\n",
    "    plt.plot(plot_generation, plot_f_obj)\n",
    "    plt.axis([0, 15, 0, 30])\n",
    "    plt.show()"
   ]
  }
 ],
 "metadata": {
  "kernelspec": {
   "display_name": "Python 3",
   "language": "python",
   "name": "python3"
  },
  "language_info": {
   "codemirror_mode": {
    "name": "ipython",
    "version": 3
   },
   "file_extension": ".py",
   "mimetype": "text/x-python",
   "name": "python",
   "nbconvert_exporter": "python",
   "pygments_lexer": "ipython3",
   "version": "3.7.0"
  }
 },
 "nbformat": 4,
 "nbformat_minor": 2
}
